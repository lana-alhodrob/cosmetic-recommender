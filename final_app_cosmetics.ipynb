{
  "cells": [
    {
      "cell_type": "markdown",
      "metadata": {
        "id": "view-in-github",
        "colab_type": "text"
      },
      "source": [
        "<a href=\"https://colab.research.google.com/github/lana-alhodrob/cosmetic-recommender/blob/main/final_app_cosmetics.ipynb\" target=\"_parent\"><img src=\"https://colab.research.google.com/assets/colab-badge.svg\" alt=\"Open In Colab\"/></a>"
      ]
    },
    {
      "cell_type": "code",
      "source": [],
      "metadata": {
        "id": "HHkQas8U4nri"
      },
      "execution_count": 17,
      "outputs": []
    },
    {
      "cell_type": "code",
      "source": [
        "\n",
        "import streamlit as st\n",
        "import pandas as pd\n",
        "\n",
        "# Load your dataset here\n",
        "\n",
        "df = pd.read_csv('cosmetics.csv')\n",
        "\n",
        "ingredient_problem_map = {\n",
        "    'acne': ['salicylic acid', 'benzoyl peroxide', 'niacinamide', 'tea tree oil'],\n",
        "    'dryness': ['hyaluronic acid', 'glycerin', 'ceramides', 'squalane', 'shea butter'],\n",
        "    'redness': ['niacinamide', 'centella asiatica', 'licorice extract', 'chamomile'],\n",
        "    'aging': ['retinol', 'vitamin c', 'peptides', 'hyaluronic acid', 'niacinamide'],\n",
        "    'dark spots': ['vitamin c', 'niacinamide', 'alpha arbutin', 'kojic acid'],\n",
        "    'oiliness': ['niacinamide', 'salicylic acid', 'clay', 'zinc']\n",
        "}\n",
        "\n",
        "def recommend_products(product_types, brands, skin_types, problems, max_price, top_n):\n",
        "    filtered_df = df.copy()\n",
        "\n",
        "    if product_types:\n",
        "        filtered_df = filtered_df[filtered_df['label'].isin(product_types)]\n",
        "\n",
        "\n",
        "    if skin_types:\n",
        "        skin_type_filters = []\n",
        "        for stype in skin_types:\n",
        "            if stype in filtered_df.columns:\n",
        "                skin_type_filters.append(filtered_df[stype] == 1)\n",
        "        if skin_type_filters:\n",
        "            combined = skin_type_filters[0]\n",
        "            for f in skin_type_filters[1:]:\n",
        "                combined |= f\n",
        "            filtered_df = filtered_df[combined]\n",
        "\n",
        "    if problems:\n",
        "        ingredients = []\n",
        "        for problem in problems:\n",
        "            ingredients.extend(ingredient_problem_map.get(problem.lower(), []))\n",
        "        ingredients = set([i.lower() for i in ingredients])\n",
        "        if ingredients:\n",
        "            filtered_df = filtered_df[filtered_df['ingredients'].apply(\n",
        "                lambda x: any(ing in x.lower() for ing in ingredients) if pd.notna(x) else False\n",
        "            )]\n",
        "\n",
        "    filtered_df = filtered_df[filtered_df['price'] <= max_price]\n",
        "    filtered_df = filtered_df.sort_values(by='rank')\n",
        "    return filtered_df[['brand', 'name', 'label', 'price', 'rank', 'ingredients']].head(top_n)\n",
        "\n",
        "\n",
        "# --- Streamlit UI ---\n",
        "st.title(\"Cosmetic Product Recommender\")\n",
        "\n",
        "product_types = st.multiselect(\"Select Product Types\", ['Moisturizer', 'Cleanser', 'Treatment', 'Face Mask', 'Eye cream', 'Sun protect'])\n",
        "skin_types = st.multiselect(\"Select Skin Types\", ['oily', 'sensitive', 'dry', 'normal', 'combination'])\n",
        "problems = st.multiselect(\"Select Skin Problems\", list(ingredient_problem_map.keys()))\n",
        "max_price = st.slider(\"Select Maximum Price\", 0, 500, 100)\n",
        "top_n = st.slider(\"Number of Recommendations\", 1, 20, 5)\n",
        "\n",
        "if st.button(\"Get Recommendations\"):\n",
        "    results = recommend_products(product_types, brands, skin_types, problems, max_price, top_n)\n",
        "    if results.empty:\n",
        "        st.warning(\"No products found.\")\n",
        "    else:\n",
        "        st.dataframe(results)\n"
      ],
      "metadata": {
        "id": "FSdfU4HX3bzQ",
        "outputId": "b8a09f92-e1e9-4c6a-818d-b98e54295d33",
        "colab": {
          "base_uri": "https://localhost:8080/"
        }
      },
      "execution_count": 18,
      "outputs": [
        {
          "output_type": "stream",
          "name": "stderr",
          "text": [
            "2025-05-23 20:25:29.729 Thread 'MainThread': missing ScriptRunContext! This warning can be ignored when running in bare mode.\n",
            "2025-05-23 20:25:29.730 Thread 'MainThread': missing ScriptRunContext! This warning can be ignored when running in bare mode.\n",
            "2025-05-23 20:25:29.733 Thread 'MainThread': missing ScriptRunContext! This warning can be ignored when running in bare mode.\n",
            "2025-05-23 20:25:29.735 Thread 'MainThread': missing ScriptRunContext! This warning can be ignored when running in bare mode.\n",
            "2025-05-23 20:25:29.736 Thread 'MainThread': missing ScriptRunContext! This warning can be ignored when running in bare mode.\n",
            "2025-05-23 20:25:29.738 Thread 'MainThread': missing ScriptRunContext! This warning can be ignored when running in bare mode.\n",
            "2025-05-23 20:25:29.738 Thread 'MainThread': missing ScriptRunContext! This warning can be ignored when running in bare mode.\n",
            "2025-05-23 20:25:29.740 Thread 'MainThread': missing ScriptRunContext! This warning can be ignored when running in bare mode.\n",
            "2025-05-23 20:25:29.741 Thread 'MainThread': missing ScriptRunContext! This warning can be ignored when running in bare mode.\n",
            "2025-05-23 20:25:29.742 Thread 'MainThread': missing ScriptRunContext! This warning can be ignored when running in bare mode.\n",
            "2025-05-23 20:25:29.744 Thread 'MainThread': missing ScriptRunContext! This warning can be ignored when running in bare mode.\n",
            "2025-05-23 20:25:29.745 Thread 'MainThread': missing ScriptRunContext! This warning can be ignored when running in bare mode.\n",
            "2025-05-23 20:25:29.746 Thread 'MainThread': missing ScriptRunContext! This warning can be ignored when running in bare mode.\n",
            "2025-05-23 20:25:29.746 Thread 'MainThread': missing ScriptRunContext! This warning can be ignored when running in bare mode.\n",
            "2025-05-23 20:25:29.747 Thread 'MainThread': missing ScriptRunContext! This warning can be ignored when running in bare mode.\n",
            "2025-05-23 20:25:29.748 Thread 'MainThread': missing ScriptRunContext! This warning can be ignored when running in bare mode.\n",
            "2025-05-23 20:25:29.748 Thread 'MainThread': missing ScriptRunContext! This warning can be ignored when running in bare mode.\n",
            "2025-05-23 20:25:29.750 Thread 'MainThread': missing ScriptRunContext! This warning can be ignored when running in bare mode.\n",
            "2025-05-23 20:25:29.751 Thread 'MainThread': missing ScriptRunContext! This warning can be ignored when running in bare mode.\n",
            "2025-05-23 20:25:29.752 Thread 'MainThread': missing ScriptRunContext! This warning can be ignored when running in bare mode.\n",
            "2025-05-23 20:25:29.753 Thread 'MainThread': missing ScriptRunContext! This warning can be ignored when running in bare mode.\n",
            "2025-05-23 20:25:29.754 Thread 'MainThread': missing ScriptRunContext! This warning can be ignored when running in bare mode.\n",
            "2025-05-23 20:25:29.755 Thread 'MainThread': missing ScriptRunContext! This warning can be ignored when running in bare mode.\n",
            "2025-05-23 20:25:29.757 Thread 'MainThread': missing ScriptRunContext! This warning can be ignored when running in bare mode.\n",
            "2025-05-23 20:25:29.757 Thread 'MainThread': missing ScriptRunContext! This warning can be ignored when running in bare mode.\n",
            "2025-05-23 20:25:29.759 Thread 'MainThread': missing ScriptRunContext! This warning can be ignored when running in bare mode.\n",
            "2025-05-23 20:25:29.759 Thread 'MainThread': missing ScriptRunContext! This warning can be ignored when running in bare mode.\n",
            "2025-05-23 20:25:29.761 Thread 'MainThread': missing ScriptRunContext! This warning can be ignored when running in bare mode.\n",
            "2025-05-23 20:25:29.762 Thread 'MainThread': missing ScriptRunContext! This warning can be ignored when running in bare mode.\n",
            "2025-05-23 20:25:29.762 Thread 'MainThread': missing ScriptRunContext! This warning can be ignored when running in bare mode.\n",
            "2025-05-23 20:25:29.763 Thread 'MainThread': missing ScriptRunContext! This warning can be ignored when running in bare mode.\n",
            "2025-05-23 20:25:29.764 Thread 'MainThread': missing ScriptRunContext! This warning can be ignored when running in bare mode.\n"
          ]
        }
      ]
    },
    {
      "cell_type": "code",
      "source": [
        "streamlit run app.py"
      ],
      "metadata": {
        "id": "fXeuz7Ut5uTT",
        "outputId": "e47c4347-b49c-4625-d692-b5f794717d75",
        "colab": {
          "base_uri": "https://localhost:8080/",
          "height": 110
        }
      },
      "execution_count": 20,
      "outputs": [
        {
          "output_type": "error",
          "ename": "SyntaxError",
          "evalue": "invalid syntax (<ipython-input-20-718866ff34b9>, line 1)",
          "traceback": [
            "\u001b[0;36m  File \u001b[0;32m\"<ipython-input-20-718866ff34b9>\"\u001b[0;36m, line \u001b[0;32m1\u001b[0m\n\u001b[0;31m    streamlit run app.py\u001b[0m\n\u001b[0m              ^\u001b[0m\n\u001b[0;31mSyntaxError\u001b[0m\u001b[0;31m:\u001b[0m invalid syntax\n"
          ]
        }
      ]
    }
  ],
  "metadata": {
    "colab": {
      "provenance": [],
      "include_colab_link": true
    },
    "kernelspec": {
      "display_name": "Python 3",
      "name": "python3"
    }
  },
  "nbformat": 4,
  "nbformat_minor": 0
}